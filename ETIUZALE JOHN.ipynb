{
 "cells": [
  {
   "cell_type": "markdown",
   "id": "8f3cbcdf-5e7a-4e83-9e07-4b900d2dc4d3",
   "metadata": {},
   "source": [
    "# Task 3"
   ]
  },
  {
   "cell_type": "markdown",
   "id": "018e9dd6-2f13-40f1-adb2-39cdcf653957",
   "metadata": {},
   "source": [
    "## 1. Extract and Load the Data\n",
    "### Unzip the file, and use pandas to load each CSV into a DataFrame:"
   ]
  },
  {
   "cell_type": "code",
   "execution_count": 1,
   "id": "ec7f384f-d426-47c5-ac3d-1ee32c25df3a",
   "metadata": {},
   "outputs": [],
   "source": [
    "import pandas as pd"
   ]
  },
  {
   "cell_type": "code",
   "execution_count": 2,
   "id": "b88f3863-5e10-4698-af02-f538a8c58b7f",
   "metadata": {},
   "outputs": [],
   "source": [
    "orders = pd.read_csv('orders.csv')\n"
   ]
  },
  {
   "cell_type": "code",
   "execution_count": 3,
   "id": "9580c067-7b8b-478e-b487-c26a382db349",
   "metadata": {},
   "outputs": [
    {
     "name": "stdout",
     "output_type": "stream",
     "text": [
      "       order_id        date      time\n",
      "0             1  2015-01-01  11:38:36\n",
      "1             2  2015-01-01  11:57:40\n",
      "2             3  2015-01-01  12:12:28\n",
      "3             4  2015-01-01  12:16:31\n",
      "4             5  2015-01-01  12:21:30\n",
      "...         ...         ...       ...\n",
      "21345     21346  2015-12-31  20:51:07\n",
      "21346     21347  2015-12-31  21:14:37\n",
      "21347     21348  2015-12-31  21:23:10\n",
      "21348     21349  2015-12-31  22:09:54\n",
      "21349     21350  2015-12-31  23:02:05\n",
      "\n",
      "[21350 rows x 3 columns]\n"
     ]
    }
   ],
   "source": [
    "print(orders)"
   ]
  },
  {
   "cell_type": "code",
   "execution_count": 4,
   "id": "dedcb324-2684-45eb-ba61-22a88394e3c6",
   "metadata": {},
   "outputs": [],
   "source": [
    "orders = pd.read_csv(\"orders.csv\", encoding=\"latin1\")\n",
    "order_details = pd.read_csv(\"order_details.csv\", encoding=\"latin1\")\n",
    "pizzas = pd.read_csv(\"pizzas.csv\", encoding=\"latin1\")\n",
    "pizza_types = pd.read_csv(\"pizza_types.csv\", encoding=\"latin1\")"
   ]
  },
  {
   "cell_type": "markdown",
   "id": "15e082a8-7206-435f-ae17-b5a663a9e78d",
   "metadata": {},
   "source": [
    "## 2. Join the DataFrames\n",
    "### Use appropriate keys to join the data:"
   ]
  },
  {
   "cell_type": "code",
   "execution_count": 5,
   "id": "d8c6ae7e-5254-4ee9-80e8-998fed05fcf6",
   "metadata": {},
   "outputs": [],
   "source": [
    "merged = order_details.merge(pizzas, on=\"pizza_id\")\n",
    "merged = merged.merge(pizza_types, on=\"pizza_type_id\")\n",
    "merged = merged.merge(orders, on=\"order_id\")"
   ]
  },
  {
   "cell_type": "markdown",
   "id": "662a49ba-9fde-4281-9674-758e63ac5692",
   "metadata": {},
   "source": [
    "## 3. Perform Analysis\n",
    "### Then you can answer the following:\n",
    "### * Total Revenue:"
   ]
  },
  {
   "cell_type": "code",
   "execution_count": 6,
   "id": "f245e89f-8ce1-46d0-a2f5-9a73bbdae8ef",
   "metadata": {},
   "outputs": [],
   "source": [
    "total_revenue = (merged['price'] * merged['quantity']).sum()"
   ]
  },
  {
   "cell_type": "markdown",
   "id": "aed4ad40-74c3-4097-8bce-f3cc9aa2d0a8",
   "metadata": {},
   "source": [
    "### * Total Quantity Sold:"
   ]
  },
  {
   "cell_type": "code",
   "execution_count": 7,
   "id": "948b4db8-1039-4532-b160-e93b4b6d67c8",
   "metadata": {},
   "outputs": [],
   "source": [
    "total_quantity = merged['quantity'].sum()"
   ]
  },
  {
   "cell_type": "markdown",
   "id": "e00a446c-3a4a-4f83-9cc9-6c118f19df2e",
   "metadata": {},
   "source": [
    "### * Total Orders:"
   ]
  },
  {
   "cell_type": "code",
   "execution_count": 8,
   "id": "d989d974-6477-4a81-9b77-f4f92431d31c",
   "metadata": {},
   "outputs": [],
   "source": [
    "total_orders = orders['order_id'].nunique()"
   ]
  },
  {
   "cell_type": "markdown",
   "id": "d8600d3e-4dfe-446e-a8fc-953a46bfe5f9",
   "metadata": {},
   "source": [
    "### * Pizza Types Count:"
   ]
  },
  {
   "cell_type": "code",
   "execution_count": 9,
   "id": "8331ab33-e1b3-4c58-bf8c-1fc14be5b98f",
   "metadata": {},
   "outputs": [],
   "source": [
    "pizza_type_count = pizza_types['pizza_type_id'].nunique()"
   ]
  },
  {
   "cell_type": "markdown",
   "id": "592086a1-cabe-4209-be75-2863967bc86a",
   "metadata": {},
   "source": [
    "### * Average Pizza Price:"
   ]
  },
  {
   "cell_type": "code",
   "execution_count": 10,
   "id": "75970523-e9e6-4312-b214-30eba83973b8",
   "metadata": {},
   "outputs": [],
   "source": [
    "average_price = pizzas['price'].mean()"
   ]
  },
  {
   "cell_type": "markdown",
   "id": "e590f030-8f2e-43ba-bf5a-1a0a4619c6ef",
   "metadata": {},
   "source": [
    "### * Peak Sales Hours:"
   ]
  },
  {
   "cell_type": "code",
   "execution_count": 11,
   "id": "11d24b42-59bf-45e1-975a-1e3c25d05035",
   "metadata": {},
   "outputs": [
    {
     "data": {
      "text/plain": [
       "<Axes: xlabel='hour'>"
      ]
     },
     "execution_count": 11,
     "metadata": {},
     "output_type": "execute_result"
    },
    {
     "data": {
      "image/png": "[encoded data removed]",
      "text/plain": [
       "<Figure size 640x480 with 1 Axes>"
      ]
     },
     "metadata": {},
     "output_type": "display_data"
    }
   ],
   "source": [
    "orders['time'] = pd.to_datetime(orders['time'], format='%H:%M:%S')\n",
    "orders['hour'] = orders['time'].dt.hour\n",
    "hourly_sales = orders.merge(order_details, on='order_id')\n",
    "hourly_sales['hour'] = pd.to_datetime(hourly_sales['time'], format='%H:%M:%S').dt.hour\n",
    "hourly_sales.groupby('hour')['quantity'].sum().plot(kind='bar')"
   ]
  },
  {
   "cell_type": "markdown",
   "id": "341aac19-1383-44bb-b5d0-f8a0ee941255",
   "metadata": {},
   "source": [
    "### * Sales by Day of Week:"
   ]
  },
  {
   "cell_type": "code",
   "execution_count": 12,
   "id": "3029e853-5e86-4145-8d07-bc65a7d24f74",
   "metadata": {},
   "outputs": [
    {
     "data": {
      "text/plain": [
       "day_of_week\n",
       "Friday       136073.90\n",
       "Thursday     123528.50\n",
       "Saturday     123182.40\n",
       "Wednesday    114408.40\n",
       "Tuesday      114133.80\n",
       "Monday       107329.55\n",
       "Sunday        99203.50\n",
       "Name: sales, dtype: float64"
      ]
     },
     "execution_count": 12,
     "metadata": {},
     "output_type": "execute_result"
    }
   ],
   "source": [
    "orders['date'] = pd.to_datetime(orders['date'])\n",
    "orders['day_of_week'] = orders['date'].dt.day_name()\n",
    "day_sales = orders.merge(order_details, on='order_id')\n",
    "day_sales['sales'] = day_sales['quantity'] * merged['price']\n",
    "day_sales.groupby('day_of_week')['sales'].sum().sort_values(ascending=False)"
   ]
  },
  {
   "cell_type": "markdown",
   "id": "f5b3ca06-c3ba-45e2-b5b6-5dee2a49f000",
   "metadata": {},
   "source": [
    "### * Top 5 Bestselling Pizzas:"
   ]
  },
  {
   "cell_type": "code",
   "execution_count": 13,
   "id": "a944a1d8-d9b0-4722-9ba7-563c7fa4a2df",
   "metadata": {},
   "outputs": [
    {
     "data": {
      "text/plain": [
       "pizza_type_id\n",
       "classic_dlx    2453\n",
       "bbq_ckn        2432\n",
       "hawaiian       2422\n",
       "pepperoni      2418\n",
       "thai_ckn       2371\n",
       "Name: quantity, dtype: int64"
      ]
     },
     "execution_count": 13,
     "metadata": {},
     "output_type": "execute_result"
    }
   ],
   "source": [
    "merged.groupby('pizza_type_id')['quantity'].sum().sort_values(ascending=False).head(5)"
   ]
  },
  {
   "cell_type": "markdown",
   "id": "aff7b7a0-ab65-4197-9781-0146a52ee1c0",
   "metadata": {},
   "source": [
    "### * Monthly Sales Trend:"
   ]
  },
  {
   "cell_type": "code",
   "execution_count": 14,
   "id": "40641e8e-940b-4182-ae0e-5e75742c5337",
   "metadata": {},
   "outputs": [
    {
     "data": {
      "text/plain": [
       "<Axes: xlabel='month'>"
      ]
     },
     "execution_count": 14,
     "metadata": {},
     "output_type": "execute_result"
    },
    {
     "data": {
      "image/png": "[encoded data removed]",
      "text/plain": [
       "<Figure size 640x480 with 1 Axes>"
      ]
     },
     "metadata": {},
     "output_type": "display_data"
    }
   ],
   "source": [
    "orders['month'] = orders['date'].dt.to_period('M')\n",
    "monthly_sales = orders.merge(order_details, on='order_id')\n",
    "monthly_sales['sales'] = monthly_sales['quantity'] * merged['price']\n",
    "monthly_sales.groupby('month')['sales'].sum().plot(kind='line')"
   ]
  },
  {
   "cell_type": "markdown",
   "id": "dfa2e0a8-3206-4e92-9efc-ab893119f9ad",
   "metadata": {},
   "source": [
    "### * Underperforming Pizza Types:"
   ]
  },
  {
   "cell_type": "code",
   "execution_count": 15,
   "id": "b3ee549f-441f-4adf-9f97-378c0382a94a",
   "metadata": {},
   "outputs": [
    {
     "data": {
      "text/plain": [
       "pizza_type_id\n",
       "brie_carre      490\n",
       "mediterraneo    934\n",
       "calabrese       937\n",
       "spinach_supr    950\n",
       "soppressata     961\n",
       "Name: quantity, dtype: int64"
      ]
     },
     "execution_count": 15,
     "metadata": {},
     "output_type": "execute_result"
    }
   ],
   "source": [
    "merged.groupby('pizza_type_id')['quantity'].sum().sort_values().head(5)"
   ]
  },
  {
   "cell_type": "code",
   "execution_count": null,
   "id": "e9e25fc1-b38f-47d2-8e64-a655a5452829",
   "metadata": {},
   "outputs": [],
   "source": []
  }
 ],
 "metadata": {
  "kernelspec": {
   "display_name": "Python 3 (ipykernel)",
   "language": "python",
   "name": "python3"
  },
  "language_info": {
   "codemirror_mode": {
    "name": "ipython",
    "version": 3
   },
   "file_extension": ".py",
   "mimetype": "text/x-python",
   "name": "python",
   "nbconvert_exporter": "python",
   "pygments_lexer": "ipython3",
   "version": "3.12.7"
  }
 },
 "nbformat": 4,
 "nbformat_minor": 5
}
